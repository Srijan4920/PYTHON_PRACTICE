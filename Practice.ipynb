{
 "cells": [
  {
   "cell_type": "code",
   "execution_count": 2,
   "metadata": {},
   "outputs": [
    {
     "name": "stdout",
     "output_type": "stream",
     "text": [
      "The area of the trinagle is:32.06cm²\n"
     ]
    }
   ],
   "source": [
    "# print the area of a traingle\n",
    "base=float(input(\"enter the base of the triangle:\"))\n",
    "height=float(input(\"Enter the heighht of the traingle:\"))\n",
    "area=0.5*base*height\n",
    "print(f\"The area of the trinagle is:{round(area,2)}cm²\")"
   ]
  },
  {
   "cell_type": "code",
   "execution_count": 5,
   "metadata": {},
   "outputs": [
    {
     "name": "stdout",
     "output_type": "stream",
     "text": [
      "Before swap var1:12,var2:46\n",
      "After swap var1:46,var2:12\n"
     ]
    }
   ],
   "source": [
    "# WAP to swap two variables\n",
    "var1=int(input(\"Enter the value:\"))\n",
    "var2=int(input(\"Enter the value:\"))\n",
    "print(f\"Before swap var1:{var1},var2:{var2}\")\n",
    "temp=var1\n",
    "var1=var2\n",
    "var2=temp\n",
    "\n",
    "print(f\"After swap var1:{var1},var2:{var2}\")"
   ]
  },
  {
   "cell_type": "code",
   "execution_count": 3,
   "metadata": {},
   "outputs": [
    {
     "name": "stdout",
     "output_type": "stream",
     "text": [
      "True\n",
      "564645\n",
      "<class 'str'>\n"
     ]
    }
   ],
   "source": [
    "num=int(input(\"Enter a number:\"))\n",
    "print(bool(num))\n",
    "string_num=str(num)\n",
    "print(string_num)\n",
    "print(type(string_num))"
   ]
  },
  {
   "cell_type": "code",
   "execution_count": 4,
   "metadata": {},
   "outputs": [
    {
     "name": "stdout",
     "output_type": "stream",
     "text": [
      "random number:15 \n"
     ]
    }
   ],
   "source": [
    "import random\n",
    "print(f\"random number:{random.randint(1,100)} \")"
   ]
  },
  {
   "cell_type": "code",
   "execution_count": 5,
   "metadata": {},
   "outputs": [
    {
     "name": "stdout",
     "output_type": "stream",
     "text": [
      "4656.0 is equal to 2893.103376 in miles\n"
     ]
    }
   ],
   "source": [
    "km=float(input(\"enter the distance in KM: \"))\n",
    "conversion_factor=0.621371\n",
    "distance=km*conversion_factor\n",
    "print(f\"{km} is equal to {distance} in miles\")"
   ]
  },
  {
   "cell_type": "code",
   "execution_count": 7,
   "metadata": {},
   "outputs": [
    {
     "name": "stdout",
     "output_type": "stream",
     "text": [
      "The temp in 65.0 degree Celcius is equal to 149.0 degree Farenheit\n"
     ]
    }
   ],
   "source": [
    "celcius=float(input(\"enter the temp in celcius:\"))\n",
    "farenheit=(celcius*9/5)+32\n",
    "print(f\"The temp in {celcius} degree Celcius is equal to {farenheit} degree Farenheit\")"
   ]
  },
  {
   "cell_type": "code",
   "execution_count": 10,
   "metadata": {},
   "outputs": [
    {
     "name": "stdout",
     "output_type": "stream",
     "text": [
      "      May 2025\n",
      "Mo Tu We Th Fr Sa Su\n",
      "          1  2  3  4\n",
      " 5  6  7  8  9 10 11\n",
      "12 13 14 15 16 17 18\n",
      "19 20 21 22 23 24 25\n",
      "26 27 28 29 30 31\n",
      "\n"
     ]
    }
   ],
   "source": [
    "import calendar\n",
    "year=int(input(\"Enter the year:\"))\n",
    "month=int(input(\"Enter the month:\"))\n",
    "cal=calendar.month(year,month)\n",
    "print(cal)"
   ]
  },
  {
   "cell_type": "code",
   "execution_count": 1,
   "metadata": {},
   "outputs": [
    {
     "name": "stdout",
     "output_type": "stream",
     "text": [
      "Root1:-2.0+2.0i\n",
      "Root2:-2.0-2.0i\n"
     ]
    }
   ],
   "source": [
    "# WAP to solve quadratic equation\n",
    "import math\n",
    "a=float(input(\"Enter coefficient a:\"))\n",
    "b=float(input(\"Enter coefficient b:\"))\n",
    "c=float(input(\"Enter coefficient c:\"))\n",
    "\n",
    "discriminant=b**2-4*a*c\n",
    "if discriminant>0:\n",
    "    root1=(-b+math.sqrt(discriminant))/(2*a)\n",
    "    root2=(-b-math.sqrt(discriminant))/(2*a)\n",
    "    print(f\"Root 1:{root1}\")\n",
    "    print(f\"Root 2:{root2}\")\n",
    "elif discriminant ==0:\n",
    "    root= -b/(2*a)    \n",
    "    print(f\"Root:{root}\")\n",
    "else:\n",
    "    real_part=-b/(2*a)\n",
    "    img_part=math.sqrt(abs(discriminant))/(2*a)\n",
    "    print(f\"Root1:{real_part}+{img_part}i\")\n",
    "    print(f\"Root2:{real_part}-{img_part}i\")"
   ]
  },
  {
   "cell_type": "code",
   "execution_count": 1,
   "metadata": {},
   "outputs": [
    {
     "name": "stdout",
     "output_type": "stream",
     "text": [
      "After Swapping:\n",
      "a= 10\n",
      "b= 5\n"
     ]
    }
   ],
   "source": [
    "#WAP to swap two vars without using temp varaible\n",
    "a=5\n",
    "b=10\n",
    "a,b=b,a\n",
    "\n",
    "print(\"After Swapping:\")\n",
    "print(\"a=\",a)\n",
    "print(\"b=\",b)"
   ]
  },
  {
   "cell_type": "code",
   "execution_count": 3,
   "metadata": {},
   "outputs": [
    {
     "name": "stdout",
     "output_type": "stream",
     "text": [
      "Positive number\n"
     ]
    }
   ],
   "source": [
    "#WAP to check a number is positve,negative or zero\n",
    "num=float(input(\"Enter a number to check:\"))\n",
    "if num>0:\n",
    "    print(\"Positive number\")\n",
    "elif num==0:\n",
    "    print(\"Zero\")\n",
    "else:\n",
    "    print(\"Negetive number\")        "
   ]
  },
  {
   "cell_type": "code",
   "execution_count": 1,
   "metadata": {},
   "outputs": [
    {
     "name": "stdout",
     "output_type": "stream",
     "text": [
      "6 is even\n"
     ]
    }
   ],
   "source": [
    "#WAP to check if a number is Odd or Even\n",
    "num=int(input(\"Enter the number:\"))\n",
    "if num%2==0:\n",
    "    print(f\"{num} is even\")\n",
    "else:\n",
    "    print(f\"{num} is odd\")    "
   ]
  },
  {
   "cell_type": "code",
   "execution_count": 1,
   "metadata": {},
   "outputs": [
    {
     "name": "stdout",
     "output_type": "stream",
     "text": [
      "2024 is a leap year\n"
     ]
    }
   ],
   "source": [
    "#WAP to check a leap year\n",
    "\n",
    "year= int(input(\"Enter a year:\"))\n",
    "\n",
    "if(year%400==0 and year % 100==0):\n",
    "    print(f\"{year} is a laep year\")\n",
    "elif(year%4==0 and year % 100!=0):\n",
    "    print(f\"{year} is a leap year\")\n",
    "else:\n",
    "    print(f\"{year} is not a leap year\")       "
   ]
  },
  {
   "cell_type": "code",
   "execution_count": 2,
   "metadata": {},
   "outputs": [
    {
     "name": "stdout",
     "output_type": "stream",
     "text": [
      "252 is not a prime number\n"
     ]
    }
   ],
   "source": [
    "#WAP to check if a number is prime or not\n",
    "\n",
    "num=int(input(\"enter a number:\"))\n",
    "if num<=1:\n",
    "    print(f\"{num} is not a prime number\")\n",
    "else:\n",
    "    for i in range(2,int(num**0.5)+1):\n",
    "        if num%i==0:\n",
    "            print(f\"{num} is not a prime number\")\n",
    "            break\n",
    "        else:\n",
    "            print(f\"{num} is a prime number\")\n",
    "            break    \n",
    "  "
   ]
  },
  {
   "cell_type": "code",
   "execution_count": 22,
   "metadata": {},
   "outputs": [
    {
     "name": "stdout",
     "output_type": "stream",
     "text": [
      "2,3,5,7,11,13,17,19,23,29,31,37,41,43,47,53,59,61,67,71,73,79,83,89,97,"
     ]
    }
   ],
   "source": [
    "#WAP to print all prime number from 1 to 100\n",
    "for i in range(2,101):\n",
    "  for j in range(2,i):\n",
    "    if i%j==0:\n",
    "      break\n",
    "  else:\n",
    "    print(i,end=\",\")"
   ]
  },
  {
   "cell_type": "code",
   "execution_count": 1,
   "metadata": {},
   "outputs": [
    {
     "name": "stdout",
     "output_type": "stream",
     "text": [
      "1.0\n",
      "1.41\n",
      "1.73\n",
      "2.0\n",
      "2.24\n",
      "2.45\n",
      "2.65\n",
      "2.83\n",
      "3.0\n",
      "3.16\n",
      "3.32\n",
      "3.46\n",
      "3.61\n",
      "3.74\n",
      "3.87\n",
      "4.0\n",
      "4.12\n",
      "4.24\n",
      "4.36\n",
      "4.47\n",
      "4.58\n",
      "4.69\n",
      "4.8\n",
      "4.9\n",
      "5.0\n",
      "5.1\n",
      "5.2\n",
      "5.29\n",
      "5.39\n",
      "5.48\n",
      "5.57\n",
      "5.66\n",
      "5.74\n",
      "5.83\n",
      "5.92\n",
      "6.0\n",
      "6.08\n",
      "6.16\n",
      "6.24\n",
      "6.32\n",
      "6.4\n",
      "6.48\n",
      "6.56\n",
      "6.63\n",
      "6.71\n",
      "6.78\n",
      "6.86\n",
      "6.93\n",
      "7.0\n",
      "7.07\n",
      "7.14\n",
      "7.21\n",
      "7.28\n",
      "7.35\n",
      "7.42\n",
      "7.48\n",
      "7.55\n",
      "7.62\n",
      "7.68\n",
      "7.75\n",
      "7.81\n",
      "7.87\n",
      "7.94\n",
      "8.0\n",
      "8.06\n",
      "8.12\n",
      "8.19\n",
      "8.25\n",
      "8.31\n",
      "8.37\n",
      "8.43\n",
      "8.49\n",
      "8.54\n",
      "8.6\n",
      "8.66\n",
      "8.72\n",
      "8.77\n",
      "8.83\n",
      "8.89\n",
      "8.94\n",
      "9.0\n",
      "9.06\n",
      "9.11\n",
      "9.17\n",
      "9.22\n",
      "9.27\n",
      "9.33\n",
      "9.38\n",
      "9.43\n",
      "9.49\n",
      "9.54\n",
      "9.59\n",
      "9.64\n",
      "9.7\n",
      "9.75\n",
      "9.8\n",
      "9.85\n",
      "9.9\n",
      "9.95\n",
      "10.0\n"
     ]
    }
   ],
   "source": [
    "#WAP to print square root for all numbers from 1 to 100\n",
    "\n",
    "import math\n",
    "for i in range(1, 101):\n",
    "    print(round(math.sqrt(i), 2))\n"
   ]
  },
  {
   "cell_type": "code",
   "execution_count": 25,
   "metadata": {},
   "outputs": [
    {
     "name": "stdout",
     "output_type": "stream",
     "text": [
      "Square root of 1 is 1.00\n",
      "Square root of 2 is 1.41\n",
      "Square root of 3 is 1.73\n",
      "Square root of 4 is 2.00\n",
      "Square root of 5 is 2.24\n",
      "Square root of 6 is 2.45\n",
      "Square root of 7 is 2.65\n",
      "Square root of 8 is 2.83\n",
      "Square root of 9 is 3.00\n",
      "Square root of 10 is 3.16\n",
      "Square root of 11 is 3.32\n",
      "Square root of 12 is 3.46\n",
      "Square root of 13 is 3.61\n",
      "Square root of 14 is 3.74\n",
      "Square root of 15 is 3.87\n",
      "Square root of 16 is 4.00\n",
      "Square root of 17 is 4.12\n",
      "Square root of 18 is 4.24\n",
      "Square root of 19 is 4.36\n",
      "Square root of 20 is 4.47\n",
      "Square root of 21 is 4.58\n",
      "Square root of 22 is 4.69\n",
      "Square root of 23 is 4.80\n",
      "Square root of 24 is 4.90\n",
      "Square root of 25 is 5.00\n",
      "Square root of 26 is 5.10\n",
      "Square root of 27 is 5.20\n",
      "Square root of 28 is 5.29\n",
      "Square root of 29 is 5.39\n",
      "Square root of 30 is 5.48\n",
      "Square root of 31 is 5.57\n",
      "Square root of 32 is 5.66\n",
      "Square root of 33 is 5.74\n",
      "Square root of 34 is 5.83\n",
      "Square root of 35 is 5.92\n",
      "Square root of 36 is 6.00\n",
      "Square root of 37 is 6.08\n",
      "Square root of 38 is 6.16\n",
      "Square root of 39 is 6.24\n",
      "Square root of 40 is 6.32\n",
      "Square root of 41 is 6.40\n",
      "Square root of 42 is 6.48\n",
      "Square root of 43 is 6.56\n",
      "Square root of 44 is 6.63\n",
      "Square root of 45 is 6.71\n",
      "Square root of 46 is 6.78\n",
      "Square root of 47 is 6.86\n",
      "Square root of 48 is 6.93\n",
      "Square root of 49 is 7.00\n",
      "Square root of 50 is 7.07\n",
      "Square root of 51 is 7.14\n",
      "Square root of 52 is 7.21\n",
      "Square root of 53 is 7.28\n",
      "Square root of 54 is 7.35\n",
      "Square root of 55 is 7.42\n",
      "Square root of 56 is 7.48\n",
      "Square root of 57 is 7.55\n",
      "Square root of 58 is 7.62\n",
      "Square root of 59 is 7.68\n",
      "Square root of 60 is 7.75\n",
      "Square root of 61 is 7.81\n",
      "Square root of 62 is 7.87\n",
      "Square root of 63 is 7.94\n",
      "Square root of 64 is 8.00\n",
      "Square root of 65 is 8.06\n",
      "Square root of 66 is 8.12\n",
      "Square root of 67 is 8.19\n",
      "Square root of 68 is 8.25\n",
      "Square root of 69 is 8.31\n",
      "Square root of 70 is 8.37\n",
      "Square root of 71 is 8.43\n",
      "Square root of 72 is 8.49\n",
      "Square root of 73 is 8.54\n",
      "Square root of 74 is 8.60\n",
      "Square root of 75 is 8.66\n",
      "Square root of 76 is 8.72\n",
      "Square root of 77 is 8.77\n",
      "Square root of 78 is 8.83\n",
      "Square root of 79 is 8.89\n",
      "Square root of 80 is 8.94\n",
      "Square root of 81 is 9.00\n",
      "Square root of 82 is 9.06\n",
      "Square root of 83 is 9.11\n",
      "Square root of 84 is 9.17\n",
      "Square root of 85 is 9.22\n",
      "Square root of 86 is 9.27\n",
      "Square root of 87 is 9.33\n",
      "Square root of 88 is 9.38\n",
      "Square root of 89 is 9.43\n",
      "Square root of 90 is 9.49\n",
      "Square root of 91 is 9.54\n",
      "Square root of 92 is 9.59\n",
      "Square root of 93 is 9.64\n",
      "Square root of 94 is 9.70\n",
      "Square root of 95 is 9.75\n",
      "Square root of 96 is 9.80\n",
      "Square root of 97 is 9.85\n",
      "Square root of 98 is 9.90\n",
      "Square root of 99 is 9.95\n",
      "Square root of 100 is 10.00\n"
     ]
    }
   ],
   "source": [
    "import math\n",
    "for i in range(1, 101):\n",
    "    print(f\"Square root of {i} is {math.sqrt(i):.2f}\")\n"
   ]
  },
  {
   "cell_type": "code",
   "execution_count": 8,
   "metadata": {},
   "outputs": [
    {
     "name": "stdout",
     "output_type": "stream",
     "text": [
      "The FActorial of 4 is 24\n"
     ]
    }
   ],
   "source": [
    "#WAP to ffind the factorial of a nuber\n",
    "num=int(input(\"Enter a number:\"))\n",
    "factorial=1\n",
    "if num<0:\n",
    "    print(\"Factorial does'nt exist for Negetive numbers \")\n",
    "elif num==0:\n",
    "    print(\"Factorial of 0 is 1:\")\n",
    "else:\n",
    "    for i in range(1,num+1):        \n",
    "        factorial=factorial*i\n",
    "    print(f\"The FActorial of {num} is {factorial}\")"
   ]
  },
  {
   "cell_type": "code",
   "execution_count": 5,
   "metadata": {},
   "outputs": [
    {
     "name": "stdout",
     "output_type": "stream",
     "text": [
      "the sum of the digits is 37\n"
     ]
    }
   ],
   "source": [
    "#WAP to add digits of a given number\n",
    "num=int(input(\"Enter a number\"))\n",
    "sum=0\n",
    "while num>0:\n",
    "    r=num%10\n",
    "    sum=sum+r\n",
    "    num=num//10\n",
    "print(f\"the sum of the digits is {sum}\")    "
   ]
  },
  {
   "cell_type": "code",
   "execution_count": 10,
   "metadata": {},
   "outputs": [
    {
     "name": "stdout",
     "output_type": "stream",
     "text": [
      "45 X 1 = 45\n",
      "45 X 2 = 90\n",
      "45 X 3 = 135\n",
      "45 X 4 = 180\n",
      "45 X 5 = 225\n",
      "45 X 6 = 270\n",
      "45 X 7 = 315\n",
      "45 X 8 = 360\n",
      "45 X 9 = 405\n",
      "45 X 10 = 450\n"
     ]
    }
   ],
   "source": [
    "#WAP to print a multiplication table\n",
    "num=int(input(\"Entre a number:\"))\n",
    "for i in range(1,11):\n",
    "    print(f\"{num} X {i} = {num*i}\")    "
   ]
  },
  {
   "cell_type": "code",
   "execution_count": 1,
   "metadata": {},
   "outputs": [
    {
     "name": "stdout",
     "output_type": "stream",
     "text": [
      "b:5 is the largest\n"
     ]
    }
   ],
   "source": [
    "#WAP to compare three numbers and print the largest\n",
    "a=int(input(\"Enter a number (a):\"))\n",
    "b=int(input(\"Enter a number (b):\"))\n",
    "c=int(input(\"Enter a number (c):\"))\n",
    "if a>b and a>c:\n",
    "    print(f\"a:{a} is the largest\")\n",
    "elif b>a and b>c:\n",
    "    print(f\"b:{b} is the largest\")\n",
    "else:\n",
    "    print(f\"c:{c} is largest\")        "
   ]
  },
  {
   "cell_type": "code",
   "execution_count": 3,
   "metadata": {},
   "outputs": [
    {
     "name": "stdout",
     "output_type": "stream",
     "text": [
      "1+2+3+4+5+6+7+8+9+10+11+12+13+14+15+16+17+18+19+20=210\n"
     ]
    }
   ],
   "source": [
    "# Calculate sum of all numbers from 1 to a given number\n",
    "sum=0\n",
    "n=int(input(\"enter the limit\"))\n",
    "for i in range(1,n+1):\n",
    "    sum+=i\n",
    "    print(i,end=\"+\")   \n",
    "else:\n",
    "    print(f\"\\b={sum}\")    #The \\b backspaces over the trailing +, so the final output is clean."
   ]
  },
  {
   "cell_type": "code",
   "execution_count": 2,
   "metadata": {},
   "outputs": [
    {
     "name": "stdout",
     "output_type": "stream",
     "text": [
      "75\n",
      "150\n",
      "145\n"
     ]
    }
   ],
   "source": [
    "#Write a Python program to display only those numbers from a list that satisfy the following conditions\n",
    "#The number must be divisible by five\n",
    "#If the number is greater than 150, then skip it and move to the following number\n",
    "#If the number is greater than 500, then stop the loop\n",
    "\n",
    "numbers= [12, 75, 150, 180, 145, 525, 50]\n",
    "for i in numbers:\n",
    "    if i>500:\n",
    "        break\n",
    "    elif i>150:\n",
    "        continue\n",
    "    elif i%5==0:\n",
    "        print(i)\n"
   ]
  },
  {
   "cell_type": "code",
   "execution_count": 3,
   "metadata": {},
   "outputs": [
    {
     "name": "stdout",
     "output_type": "stream",
     "text": [
      "The digits are:5\n"
     ]
    }
   ],
   "source": [
    "#Count the total number of digits in a number\n",
    "num=75869\n",
    "count=0\n",
    "while num!=0:\n",
    "    num=num//10\n",
    "    count+=1\n",
    "print(f\"The digits are:{count}\")"
   ]
  },
  {
   "cell_type": "code",
   "execution_count": 6,
   "metadata": {},
   "outputs": [
    {
     "name": "stdout",
     "output_type": "stream",
     "text": [
      "50 40 30 20 10 "
     ]
    }
   ],
   "source": [
    "#Print list in reverse order using a loop\n",
    "list1 = [10, 20, 30, 40, 50]\n",
    "\n",
    "new_list=reversed(list1)\n",
    "for i in new_list:\n",
    "    print(i,end=\" \")"
   ]
  },
  {
   "cell_type": "code",
   "execution_count": 8,
   "metadata": {},
   "outputs": [
    {
     "name": "stdout",
     "output_type": "stream",
     "text": [
      "-10 -9 -8 -7 -6 -5 -4 -3 -2 -1 "
     ]
    }
   ],
   "source": [
    "#Display numbers from -10 to -1 using for loop\n",
    "for i in range(-10,0,1):\n",
    "    print(i,end=\" \") "
   ]
  },
  {
   "cell_type": "code",
   "execution_count": 10,
   "metadata": {},
   "outputs": [
    {
     "name": "stdout",
     "output_type": "stream",
     "text": [
      "1\n",
      "3\n",
      "5\n",
      "7\n",
      "9\n",
      "Done!\n"
     ]
    }
   ],
   "source": [
    "#Display a message “Done” after the successful execution of the for loop\n",
    "for i in range(1,10,2):\n",
    "    print(i)\n",
    "else:\n",
    "    print(\"Done!\")    "
   ]
  },
  {
   "cell_type": "code",
   "execution_count": 2,
   "metadata": {},
   "outputs": [
    {
     "name": "stdout",
     "output_type": "stream",
     "text": [
      "70\n"
     ]
    }
   ],
   "source": [
    "#Given two integer numbers, write a Python program to return their product only \n",
    "#if the product is equal to or lower than 1000. Otherwise, return their sum.\n",
    "\n",
    "num1=30\n",
    "num2=40\n",
    "mul=num1*num2\n",
    "sum=num1+num2\n",
    "if mul<=1000:\n",
    "    print(mul)\n",
    "else:\n",
    "    print(sum)    "
   ]
  },
  {
   "cell_type": "code",
   "execution_count": null,
   "metadata": {},
   "outputs": [],
   "source": []
  }
 ],
 "metadata": {
  "kernelspec": {
   "display_name": "Python 3",
   "language": "python",
   "name": "python3"
  },
  "language_info": {
   "codemirror_mode": {
    "name": "ipython",
    "version": 3
   },
   "file_extension": ".py",
   "mimetype": "text/x-python",
   "name": "python",
   "nbconvert_exporter": "python",
   "pygments_lexer": "ipython3",
   "version": "3.13.2"
  }
 },
 "nbformat": 4,
 "nbformat_minor": 2
}
